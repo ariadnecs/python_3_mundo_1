{
  "nbformat": 4,
  "nbformat_minor": 0,
  "metadata": {
    "colab": {
      "name": "print_input.ipynb",
      "provenance": [],
      "authorship_tag": "ABX9TyOdIiUQ4Ml+DsPGMVnQ9/e9",
      "include_colab_link": true
    },
    "kernelspec": {
      "name": "python3",
      "display_name": "Python 3"
    },
    "language_info": {
      "name": "python"
    }
  },
  "cells": [
    {
      "cell_type": "markdown",
      "metadata": {
        "id": "view-in-github",
        "colab_type": "text"
      },
      "source": [
        "<a href=\"https://colab.research.google.com/github/ariadnecs/python_3_mundo_1/blob/main/print_input.ipynb\" target=\"_parent\"><img src=\"https://colab.research.google.com/assets/colab-badge.svg\" alt=\"Open In Colab\"/></a>"
      ]
    },
    {
      "cell_type": "markdown",
      "metadata": {
        "id": "kJFpnT1K7hEp"
      },
      "source": [
        "###Aula 04 - Primeiros passos com Python"
      ]
    },
    {
      "cell_type": "markdown",
      "metadata": {
        "id": "l8O2_L6S7skN"
      },
      "source": [
        "####Primeiros comandos em Python3\n",
        "\n",
        "[Curso Python](https://www.youtube.com/watch?v=31llNGKWDdo&list=PLvE-ZAFRgX8hnECDn1v9HNTI71veL3oW0&index=5)"
      ]
    },
    {
      "cell_type": "markdown",
      "metadata": {
        "id": "niWMUF-q7yG9"
      },
      "source": [
        "> print()"
      ]
    },
    {
      "cell_type": "markdown",
      "metadata": {
        "id": "WVvSdtB59msZ"
      },
      "source": [
        "* imprime na tela uma mensagem"
      ]
    },
    {
      "cell_type": "code",
      "metadata": {
        "colab": {
          "base_uri": "https://localhost:8080/"
        },
        "id": "IL8XwekD7Li9",
        "outputId": "0087ea35-4979-43e4-ef61-7e3c78c93b62"
      },
      "source": [
        "print('Olá mundo!')"
      ],
      "execution_count": 14,
      "outputs": [
        {
          "output_type": "stream",
          "text": [
            "Olá mundo!\n"
          ],
          "name": "stdout"
        }
      ]
    },
    {
      "cell_type": "code",
      "metadata": {
        "colab": {
          "base_uri": "https://localhost:8080/"
        },
        "id": "hjNpoJdt72FC",
        "outputId": "350241ce-2e63-4395-d760-d156ed6b0c0c"
      },
      "source": [
        "print(7+4)"
      ],
      "execution_count": 2,
      "outputs": [
        {
          "output_type": "stream",
          "text": [
            "11\n"
          ],
          "name": "stdout"
        }
      ]
    },
    {
      "cell_type": "code",
      "metadata": {
        "colab": {
          "base_uri": "https://localhost:8080/"
        },
        "id": "SpVr8mMT779f",
        "outputId": "4e397ea4-8cc1-4cbd-fabd-748e4c8be17b"
      },
      "source": [
        "print('7' + '4')"
      ],
      "execution_count": 3,
      "outputs": [
        {
          "output_type": "stream",
          "text": [
            "74\n"
          ],
          "name": "stdout"
        }
      ]
    },
    {
      "cell_type": "code",
      "metadata": {
        "colab": {
          "base_uri": "https://localhost:8080/"
        },
        "id": "r_SE-X1i7-U9",
        "outputId": "4338ce4a-1d4d-409e-d23b-1caec1d6ece0"
      },
      "source": [
        "print('Olá','mundo')"
      ],
      "execution_count": 4,
      "outputs": [
        {
          "output_type": "stream",
          "text": [
            "Olá mundo\n"
          ],
          "name": "stdout"
        }
      ]
    },
    {
      "cell_type": "code",
      "metadata": {
        "colab": {
          "base_uri": "https://localhost:8080/"
        },
        "id": "-mIKMWeS8Bwd",
        "outputId": "c5126b6e-ef14-48cd-f3a4-01f1bff44113"
      },
      "source": [
        "print('Olá ' + 'mundo')"
      ],
      "execution_count": 7,
      "outputs": [
        {
          "output_type": "stream",
          "text": [
            "Olá mundo\n"
          ],
          "name": "stdout"
        }
      ]
    },
    {
      "cell_type": "markdown",
      "metadata": {
        "id": "rwwoR2DR8XLc"
      },
      "source": [
        "> Variáveis"
      ]
    },
    {
      "cell_type": "markdown",
      "metadata": {
        "id": "tmdC8N6f8MXY"
      },
      "source": [
        "* Em python, todas as variáveis são um objeto"
      ]
    },
    {
      "cell_type": "code",
      "metadata": {
        "colab": {
          "base_uri": "https://localhost:8080/"
        },
        "id": "b3YoISfS8F2D",
        "outputId": "afd3afa6-4e70-4c0b-9878-a780f51f28bf"
      },
      "source": [
        "# variável 'nome'\n",
        "nome = 'Ariadne'\n",
        "print(nome)"
      ],
      "execution_count": 10,
      "outputs": [
        {
          "output_type": "stream",
          "text": [
            "Ariadne\n"
          ],
          "name": "stdout"
        }
      ]
    },
    {
      "cell_type": "markdown",
      "metadata": {
        "id": "_Y6Bdeyi9NmL"
      },
      "source": [
        "> input()"
      ]
    },
    {
      "cell_type": "markdown",
      "metadata": {
        "id": "62nGoYBY9qPM"
      },
      "source": [
        "*   armazena a mensagem digitada pelo usuário"
      ]
    },
    {
      "cell_type": "code",
      "metadata": {
        "colab": {
          "base_uri": "https://localhost:8080/"
        },
        "id": "xxUG4zV_8ecG",
        "outputId": "d0b7a918-db77-4348-83ec-450200d5f5b5"
      },
      "source": [
        "nome = input('Qual é o seu nome? ')"
      ],
      "execution_count": 15,
      "outputs": [
        {
          "output_type": "stream",
          "text": [
            "Qual é o seu nome? Ariadne\n"
          ],
          "name": "stdout"
        }
      ]
    },
    {
      "cell_type": "markdown",
      "metadata": {
        "id": "45E1Tf7_-LfH"
      },
      "source": [
        "#####Desafios Aula 04\n"
      ]
    },
    {
      "cell_type": "markdown",
      "metadata": {
        "id": "hJAlMoXG-PxU"
      },
      "source": [
        "001 - Crie um programa que escreva \"Olá mundo!\" na tela"
      ]
    },
    {
      "cell_type": "code",
      "metadata": {
        "colab": {
          "base_uri": "https://localhost:8080/"
        },
        "id": "_6oTWMfD9TmP",
        "outputId": "a956a8bf-86a4-4be5-a967-66e8247511bc"
      },
      "source": [
        "print('Olá mundo!')"
      ],
      "execution_count": 16,
      "outputs": [
        {
          "output_type": "stream",
          "text": [
            "Olá mundo!\n"
          ],
          "name": "stdout"
        }
      ]
    },
    {
      "cell_type": "code",
      "metadata": {
        "colab": {
          "base_uri": "https://localhost:8080/"
        },
        "id": "xezXlhiD-_ze",
        "outputId": "62d30289-c7d5-498b-edcd-75bb799fccad"
      },
      "source": [
        "ola = 'Olá mundo!'\n",
        "print(ola)"
      ],
      "execution_count": 18,
      "outputs": [
        {
          "output_type": "stream",
          "text": [
            "Olá mundo!\n"
          ],
          "name": "stdout"
        }
      ]
    },
    {
      "cell_type": "markdown",
      "metadata": {
        "id": "CK11VwP6_VRK"
      },
      "source": [
        "002 - Faça um programa que leia o nome de uma pessoa e mostre uma mensagem de boas-vindas."
      ]
    },
    {
      "cell_type": "code",
      "metadata": {
        "colab": {
          "base_uri": "https://localhost:8080/"
        },
        "id": "L0jATIOe_Jgg",
        "outputId": "beb47cd6-6a05-4e52-fc31-7c7611af65ce"
      },
      "source": [
        "nome = input('Qual é o seu nome? ')\n",
        "print('É um prazer te conhecer, {}.'.format(nome))"
      ],
      "execution_count": 19,
      "outputs": [
        {
          "output_type": "stream",
          "text": [
            "Qual é o seu nome? Ariadne\n",
            "É um prazer te conhecer, Ariadne.\n"
          ],
          "name": "stdout"
        }
      ]
    },
    {
      "cell_type": "code",
      "metadata": {
        "colab": {
          "base_uri": "https://localhost:8080/"
        },
        "id": "3ydHGlmSACH-",
        "outputId": "4693a747-db1b-47d2-84c7-49aff5bfab89"
      },
      "source": [
        "print('É um prazer te conhecer,', nome)"
      ],
      "execution_count": 22,
      "outputs": [
        {
          "output_type": "stream",
          "text": [
            "É um prazer te conhecer, Ariadne\n"
          ],
          "name": "stdout"
        }
      ]
    },
    {
      "cell_type": "code",
      "metadata": {
        "colab": {
          "base_uri": "https://localhost:8080/"
        },
        "id": "EChaRC4c_mwj",
        "outputId": "7c167185-9456-446c-b6f8-8c8ee2e65b2c"
      },
      "source": [
        "print(f'É um prazer te conhecer, {nome}.')"
      ],
      "execution_count": 20,
      "outputs": [
        {
          "output_type": "stream",
          "text": [
            "É um prazer te conhecer, Ariadne.\n"
          ],
          "name": "stdout"
        }
      ]
    }
  ]
}